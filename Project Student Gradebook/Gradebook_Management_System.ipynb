{
 "cells": [
  {
   "cell_type": "code",
   "execution_count": null,
   "id": "44c81f97-be7c-4712-92a4-a3ba5244fc53",
   "metadata": {},
   "outputs": [],
   "source": [
    "Students = {\n",
    "    'Ali': 55,\n",
    "    'Zain': 80,\n",
    "    'Babar': 60,\n",
    "    'Anum': 70,\n",
    "    'Ahmad': 90,\n",
    "    'Saqib': 85\n",
    "}"
   ]
  },
  {
   "cell_type": "code",
   "execution_count": null,
   "id": "370dd9dc-6523-4a41-aac2-8d61e9c09f2c",
   "metadata": {},
   "outputs": [],
   "source": [
    "def display_result():\n",
    "    for key, value in Students.items():\n",
    "        print(f\"{key}: {value}\")"
   ]
  },
  {
   "cell_type": "code",
   "execution_count": null,
   "id": "d6e51e60-8b1b-40c1-b4e5-64cde02d8d90",
   "metadata": {},
   "outputs": [],
   "source": [
    "def display_options():\n",
    "    print(\"\"\"\n",
    "        1. Add a New Student with Marks.\n",
    "        2. Update Marks for an Existing Student.\n",
    "        3. Remove a Studnet from the Gradebook.\n",
    "        4. View All Students and Their Marks.\n",
    "        5. Show the Class Average.\n",
    "        6. Show the Highest and Lowest Marks.\n",
    "        7. Sort and Display Students by Marks.\n",
    "        8. Exit\n",
    "    \"\"\")"
   ]
  },
  {
   "cell_type": "code",
   "execution_count": null,
   "id": "d5f26c7b-eaaa-4758-a7f0-d03c28e7c17a",
   "metadata": {},
   "outputs": [],
   "source": [
    "def add_student():\n",
    "    print(\"\\n--------------Add Student---------------\")\n",
    "    user_inp = input(\"\\nEnter the name of a new student: \")\n",
    "    for student in Students.keys():\n",
    "        if student.title() == user_inp.title():\n",
    "            print(\"\\nStudent already exists in Students List.\")\n",
    "            return\n",
    "        \n",
    "    marks = int(input(\"\\nEnter the marks of the student: \"))\n",
    "    Students[user_inp] = marks\n",
    "    print(f\"\\n{user_inp} has been added.\")"
   ]
  },
  {
   "cell_type": "code",
   "execution_count": null,
   "id": "208c73c5-912c-4aa2-bd0f-4e5ad9b5ee10",
   "metadata": {},
   "outputs": [],
   "source": [
    "def update():\n",
    "    print(\"\\n--------------Update Student with marks---------------\")\n",
    "    user_inp = input(\"\\nEnter the student name you want to update: \")\n",
    "    for student in Students.keys():\n",
    "        if student.title() == user_inp.title():\n",
    "            marks = int(input(\"\\nEnter new marks: \"))\n",
    "            Students.update({student: marks})\n",
    "            print(f\"\\n{student} has been updated\")\n",
    "            return\n",
    "    print(f\"\\n{user_inp} does not exist.\")"
   ]
  },
  {
   "cell_type": "code",
   "execution_count": null,
   "id": "8c35a7e2-8512-4091-9051-1a5b79941255",
   "metadata": {},
   "outputs": [],
   "source": [
    "def remove_student():\n",
    "    print(\"\\n--------------Remove Student from Gradebook---------------\")\n",
    "    user_inp = input(\"\\nEnter the student name you want to remove: \")\n",
    "    for student in Students.keys():\n",
    "        if user_inp.title() == student.title():\n",
    "            Students.pop(student)\n",
    "            print(f\"\\n{user_inp} has been removed.\")\n",
    "            return\n",
    "    print(\"\\nStudent does not exist.\")"
   ]
  },
  {
   "cell_type": "code",
   "execution_count": null,
   "id": "ac8752ae-2dc9-4db2-ab59-3d89769007a3",
   "metadata": {},
   "outputs": [],
   "source": [
    "def class_average():\n",
    "    print(\"\\n--------------Class Average---------------\")\n",
    "    sum = 0\n",
    "    for marks in Students.values():\n",
    "        sum += marks\n",
    "    average = sum // len(Students)\n",
    "    print(f\"\\nClass average is: {average}\")"
   ]
  },
  {
   "cell_type": "code",
   "execution_count": null,
   "id": "13acb6b2-a35d-4936-9b5b-4f34df87d763",
   "metadata": {},
   "outputs": [],
   "source": [
    "def Hi_LowMarks():\n",
    "    print(\"\\n--------------Display of Highest and Lowest marks in Class---------------\")\n",
    "    high = max(Students.items(), key = lambda item: item[1])\n",
    "    low = min(Students.items(), key = lambda item: item[1])\n",
    "    print(high)\n",
    "    print(low)"
   ]
  },
  {
   "cell_type": "code",
   "execution_count": null,
   "id": "55631cc1-5e1e-42fd-8950-dca860b15254",
   "metadata": {},
   "outputs": [],
   "source": [
    "def View_Sorted():\n",
    "    print(\"\\n--------------Sort and Display Students by Marks---------------\")\n",
    "    sort = sorted(Students.items(), key=lambda item: item[1], reverse = True)\n",
    "    print(f\"\\nThe Sorted list is {sort}\")"
   ]
  },
  {
   "cell_type": "code",
   "execution_count": null,
   "id": "57afeac9-b69d-4168-bf79-a2dde459295e",
   "metadata": {},
   "outputs": [],
   "source": [
    "def decision_():\n",
    "    while True:\n",
    "        ans = input(\"\\nDo you want a menu again? (y/n): \").lower()\n",
    "        if ans == 'y':\n",
    "            return True\n",
    "        elif ans == 'n':\n",
    "            return False\n",
    "        else:\n",
    "            print(\"\\nPlease type from the given two options\")\n",
    "            continue"
   ]
  },
  {
   "cell_type": "code",
   "execution_count": null,
   "id": "b4076ca0-783e-4c94-99d1-a4ecd4e55e2d",
   "metadata": {},
   "outputs": [],
   "source": [
    "while True:\n",
    "    print(\"\\n--------------Student Gradebook Management System---------------\")\n",
    "    display_options()\n",
    "    option = int(input(\"Enter one option from the given (1-8): \"))\n",
    "    \n",
    "    if option not in range(1,9):\n",
    "        print(\"\\nPlease Select from the given options.\")\n",
    "        continue\n",
    "    \n",
    "    if option == 1:\n",
    "        add_student()\n",
    "        display_result()\n",
    "        pass\n",
    "    elif option == 2:\n",
    "        update()\n",
    "        display_result()\n",
    "        pass\n",
    "    elif option == 3:\n",
    "        remove_student()\n",
    "        display_result()\n",
    "        pass\n",
    "    elif option == 4:\n",
    "        display_result()\n",
    "        pass\n",
    "    elif option == 5:\n",
    "        class_average()\n",
    "        pass\n",
    "    elif option == 6:\n",
    "        Hi_LowMarks()\n",
    "        pass\n",
    "    elif option == 7:\n",
    "        View_Sorted()\n",
    "        pass\n",
    "    if option == 8:\n",
    "        print(\"\\nThanks for using Student Gradebook Management System.\")\n",
    "        break\n",
    "    if decision_():\n",
    "        continue\n",
    "    else:\n",
    "        print(\"\\nThanks for using Student Gradebook Management System.\")\n",
    "    break\n",
    "        "
   ]
  }
 ],
 "metadata": {
  "kernelspec": {
   "display_name": "Python [conda env:base] *",
   "language": "python",
   "name": "conda-base-py"
  },
  "language_info": {
   "codemirror_mode": {
    "name": "ipython",
    "version": 3
   },
   "file_extension": ".py",
   "mimetype": "text/x-python",
   "name": "python",
   "nbconvert_exporter": "python",
   "pygments_lexer": "ipython3",
   "version": "3.13.5"
  }
 },
 "nbformat": 4,
 "nbformat_minor": 5
}
